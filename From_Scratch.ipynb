{
  "nbformat": 4,
  "nbformat_minor": 0,
  "metadata": {
    "colab": {
      "name": "From-Scratch.ipynb",
      "provenance": [],
      "collapsed_sections": []
    },
    "kernelspec": {
      "name": "python3",
      "display_name": "Python 3"
    },
    "language_info": {
      "name": "python"
    }
  },
  "cells": [
    {
      "cell_type": "markdown",
      "metadata": {
        "id": "SmLpEKbvOpl8"
      },
      "source": [
        "## Simple Linear regression from scratch\n",
        "\n",
        "*Just using Python*\n",
        "\n",
        "* Make a dummy dataset\n",
        "* Calculate various stats like mean, variance, covariance\n",
        "* Find coefficients of straight line i.e. y= b0 + b1 * x using stats from previous step\n",
        "* Fit this straight line of linear regression for dummy(training) data\n",
        "* \n",
        "evaluate the regression using test data\n",
        "* Calculate error\n",
        "\n",
        "#### Let's implement it!"
      ]
    },
    {
      "cell_type": "code",
      "metadata": {
        "id": "SP_PCQ2M9YfK"
      },
      "source": [
        "dataset = [[1,2], [2,2], [2,3], [3,2], [5,3], [4,4]]  # just 6 data points"
      ],
      "execution_count": 1,
      "outputs": []
    },
    {
      "cell_type": "markdown",
      "metadata": {
        "id": "arnk9jTR1R8U"
      },
      "source": [
        "Visualize it"
      ]
    },
    {
      "cell_type": "code",
      "metadata": {
        "colab": {
          "base_uri": "https://localhost:8080/",
          "height": 286
        },
        "id": "ISkcRBnx1VBN",
        "outputId": "1522f4c3-9dbe-443b-8068-a146ef06e276"
      },
      "source": [
        "import matplotlib.pyplot as plt\n",
        "d_x = [row[0] for row in dataset]\n",
        "d_y = [row[1] for row in dataset]\n",
        "plt.plot(d_x, d_y, 'ro')\n",
        "plt.axis([0,6,0,5])"
      ],
      "execution_count": 2,
      "outputs": [
        {
          "output_type": "execute_result",
          "data": {
            "text/plain": [
              "(0.0, 6.0, 0.0, 5.0)"
            ]
          },
          "metadata": {
            "tags": []
          },
          "execution_count": 2
        },
        {
          "output_type": "display_data",
          "data": {
            "image/png": "[encoded data removed]",
            "text/plain": [
              "<Figure size 432x288 with 1 Axes>"
            ]
          },
          "metadata": {
            "tags": [],
            "needs_background": "light"
          }
        }
      ]
    },
    {
      "cell_type": "markdown",
      "metadata": {
        "id": "5YKF6kfhQRzx"
      },
      "source": [
        "#### Calculate mean"
      ]
    },
    {
      "cell_type": "code",
      "metadata": {
        "id": "sMzogmHh9dQz"
      },
      "source": [
        "def mean(datapoints):\n",
        "    return sum(datapoints) / float(len(datapoints))"
      ],
      "execution_count": 3,
      "outputs": []
    },
    {
      "cell_type": "markdown",
      "metadata": {
        "id": "2-3CK6ioQoq9"
      },
      "source": [
        "#### Calculate variance"
      ]
    },
    {
      "cell_type": "code",
      "metadata": {
        "id": "6i4PFdhwQnOl"
      },
      "source": [
        "def variance(datapoints, mean):\n",
        "    return sum([(x - mean)**2 for x in datapoints])"
      ],
      "execution_count": 4,
      "outputs": []
    },
    {
      "cell_type": "markdown",
      "metadata": {
        "id": "2SvK9aN6ZXvA"
      },
      "source": [
        "#### Calculate covariance"
      ]
    },
    {
      "cell_type": "code",
      "metadata": {
        "id": "q1HUi3pZZW86"
      },
      "source": [
        "def covariance(x, mean_x, y, mean_y):\n",
        "    cov = 0.0\n",
        "    for i in range(len(x)):\n",
        "        cov += (x[i] - mean_x) * (y[i] - mean_y)\n",
        "    return cov"
      ],
      "execution_count": 5,
      "outputs": []
    },
    {
      "cell_type": "markdown",
      "metadata": {
        "id": "_gYKFcFJkc0p"
      },
      "source": [
        "Now, we have calculated mean, variance, covariance. But what's the use of all these calculations?\n",
        "\n",
        "All these parameters are the parameters which calculate the values of coefficients of linear regression equation. How?\n",
        "\n",
        "Le's see...\n",
        "\n",
        "Eqn of straight line is given by : y = b0 + b1 * x , where b0 is the intercept on y-axis and b1 is the slope of the regression line.\n",
        "\n",
        "b0 and b1 are calculated using mean, varance and covariance as shown below:\n",
        "\n",
        "b1 = covariance(x, y) / variance(x)\n",
        "\n",
        "b0 = mean(y) - b1 * mean(x)\n"
      ]
    },
    {
      "cell_type": "code",
      "metadata": {
        "id": "ZU3yu4Mkkbvb"
      },
      "source": [
        "def coefficients(datapoints):\n",
        "    # datapoints is a list of lists containing 2 element list at each index eg: [[a,b],[c,d],....]\n",
        "    # so we are using a simple loop on the main list\n",
        "    # this loop traverse each index which is having a list of 2 element\n",
        "    # from those index we are storing each 0th element in the list named x\n",
        "    # and 1th index element is being stored in list named y\n",
        "\n",
        "    x = [row[0] for row in datapoints]\n",
        "    y = [row[1] for row in datapoints]\n",
        "    x_mean, y_mean = mean(x), mean(y)\n",
        "    b1 = covariance(x, x_mean, y, y_mean) / variance(x, x_mean)\n",
        "    b0 = y_mean - b1 * x_mean\n",
        "    return [b0, b1]\n"
      ],
      "execution_count": 6,
      "outputs": []
    },
    {
      "cell_type": "markdown",
      "metadata": {
        "id": "tVDjn5sPt40S"
      },
      "source": [
        "#### Now comes the prediction part\n",
        "\n",
        "define linear_regression function which will coompute the prediction list for yhe given datapoints"
      ]
    },
    {
      "cell_type": "code",
      "metadata": {
        "id": "Qz9Pmeuvt3zW"
      },
      "source": [
        "# Here in this function, we are using both train and test data because train data will compute the desired coefficients i.e fitting the model to the datapoints\n",
        "# and test data will be used for prediction using coefficients already computed by train data\n",
        "# yhat(Ῠ) denotes the predicted value of y\n",
        "\n",
        "def simple_linear_regression(train, test):\n",
        "    prediction = list()\n",
        "    b0, b1 = coefficients(train)\n",
        "    for row in test:\n",
        "        yhat = b0 + b1 * row[0]\n",
        "        prediction.append(yhat)\n",
        "    return prediction "
      ],
      "execution_count": 7,
      "outputs": []
    },
    {
      "cell_type": "markdown",
      "metadata": {
        "id": "rRl1eQut02iM"
      },
      "source": [
        "#### Writing Error_metric and Evaluation function\n",
        "rmse_metric will calculate rmse(root mean squared error)\n",
        "\n",
        "rmse = sum((actual(y)-prediction(Ῠ))**2) over all datapoints"
      ]
    },
    {
      "cell_type": "code",
      "metadata": {
        "id": "kFWzakruFMIt"
      },
      "source": [
        "def rmse_metric(actual, predicted):\n",
        "    sum_error = 0.0\n",
        "    for i in range(len(actual)):\n",
        "        prediction_error = predicted[i] - actual[i]\n",
        "        sum_error += (prediction_error ** 2)\n",
        "    mean_error = sum_error / float(len(actual))\n",
        "    return mean_error"
      ],
      "execution_count": 13,
      "outputs": []
    },
    {
      "cell_type": "markdown",
      "metadata": {
        "id": "8OCSp89RFsJJ"
      },
      "source": [
        "This functon will do the real stuff of integrating all the elements"
      ]
    },
    {
      "cell_type": "code",
      "metadata": {
        "id": "Qtwhwm8o01q4"
      },
      "source": [
        "def evaluate_algo(dataset, algorithm):\n",
        "    test_set = list()\n",
        "    for row in dataset:\n",
        "        row_copy = list(row)\n",
        "        row_copy[-1] = None\n",
        "        test_set.append(row_copy)\n",
        "    predicted = algorithm(dataset, test_set)\n",
        "    # print(predicted)\n",
        "    actual = [row[-1] for row in dataset]\n",
        "    rmse = rmse_metric(actual, predicted)\n",
        "    return [predicted,rmse]"
      ],
      "execution_count": 17,
      "outputs": []
    },
    {
      "cell_type": "markdown",
      "metadata": {
        "id": "er5je0pyGepL"
      },
      "source": [
        "#### Test Simple linear regression"
      ]
    },
    {
      "cell_type": "code",
      "metadata": {
        "colab": {
          "base_uri": "https://localhost:8080/"
        },
        "id": "BcIQZAEOGcCS",
        "outputId": "6037679f-088d-4bdb-ad8d-4aa6b5aecc09"
      },
      "source": [
        "pred, rmse = evaluate_algo(dataset, simple_linear_regression)   # model training\n",
        "print('RMSE : ', rmse)"
      ],
      "execution_count": 18,
      "outputs": [
        {
          "output_type": "stream",
          "text": [
            "RMSE :  0.34871794871794887\n"
          ],
          "name": "stdout"
        }
      ]
    },
    {
      "cell_type": "code",
      "metadata": {
        "colab": {
          "base_uri": "https://localhost:8080/",
          "height": 286
        },
        "id": "klpb0KZsG5ce",
        "outputId": "9484309f-ab3b-49f1-f733-bfe4457eac24"
      },
      "source": [
        "plt.plot(d_x, d_y,'ro')\n",
        "plt.axis([0,6,0,5])\n",
        "plt.plot(d_x, pred, color = \"green\",marker ='s', linestyle = \"solid\")\n",
        "\n",
        "# green solid line with square points shows the predicted values or line of best fit for the given data points i.e red points\n",
        "# So this completes out prediction phase of linear regression"
      ],
      "execution_count": 28,
      "outputs": [
        {
          "output_type": "execute_result",
          "data": {
            "text/plain": [
              "[<matplotlib.lines.Line2D at 0x7f48ead99090>]"
            ]
          },
          "metadata": {
            "tags": []
          },
          "execution_count": 28
        },
        {
          "output_type": "display_data",
          "data": {
            "image/png": "[encoded data removed]",
            "text/plain": [
              "<Figure size 432x288 with 1 Axes>"
            ]
          },
          "metadata": {
            "tags": [],
            "needs_background": "light"
          }
        }
      ]
    },
    {
      "cell_type": "markdown",
      "metadata": {
        "id": "LH97xMHYIyJF"
      },
      "source": [
        "Here we got our predicted values as green line using simple linear regression.\n"
      ]
    }
  ]
}